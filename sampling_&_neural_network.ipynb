{
  "nbformat": 4,
  "nbformat_minor": 0,
  "metadata": {
    "accelerator": "GPU",
    "colab": {
      "name": "sampling & neural network.ipynb",
      "provenance": [],
      "collapsed_sections": []
    },
    "kernelspec": {
      "display_name": "Python 3",
      "name": "python3"
    }
  },
  "cells": [
    {
      "cell_type": "markdown",
      "metadata": {
        "id": "Mce56A8h_8Ni"
      },
      "source": [
        "# **Imports**"
      ]
    },
    {
      "cell_type": "code",
      "metadata": {
        "colab": {
          "base_uri": "https://localhost:8080/"
        },
        "id": "wWCCH9AHIzKZ",
        "outputId": "29ea3eb5-6526-4321-b880-aeb58b130265"
      },
      "source": [
        "from google.colab import drive\r\n",
        "drive.mount('/content/drive')"
      ],
      "execution_count": null,
      "outputs": [
        {
          "output_type": "stream",
          "text": [
            "Mounted at /content/drive\n"
          ],
          "name": "stdout"
        }
      ]
    },
    {
      "cell_type": "code",
      "metadata": {
        "id": "rcaZ6CPlE9SG"
      },
      "source": [
        "import torch\r\n",
        "import torch.nn as nn\r\n",
        "import torch.nn.functional as F\r\n",
        "\r\n",
        "import matplotlib.pyplot as plt\r\n",
        "import time\r\n",
        "import random\r\n",
        "import pandas as pd\r\n",
        "import numpy as np\r\n",
        "\r\n",
        "import warnings\r\n",
        "warnings.filterwarnings(\"ignore\")"
      ],
      "execution_count": null,
      "outputs": []
    },
    {
      "cell_type": "markdown",
      "metadata": {
        "id": "xw0EYpay_5g1"
      },
      "source": [
        "# **Preprocessing**"
      ]
    },
    {
      "cell_type": "code",
      "metadata": {
        "id": "U8WpIhEqFB4c"
      },
      "source": [
        "def preprocessing_features(df_train):\r\n",
        "    \"\"\"\r\n",
        "    parse features column from long string to columns of features for every packet\r\n",
        "    \"\"\"\r\n",
        "    first_drop = pd.DataFrame(df_train['feature'].str.split('['))\r\n",
        "    x = pd.DataFrame(first_drop.feature.values.tolist()).add_prefix('feature_')\r\n",
        "    x.drop('feature_0', axis=1, inplace=True)\r\n",
        "    second_drop = pd.DataFrame(x['feature_1'].str.split(']'))\r\n",
        "    x = pd.DataFrame(second_drop.feature_1.values.tolist()).add_prefix('feature_')\r\n",
        "    x.drop('feature_1', axis=1, inplace=True)\r\n",
        "    x = x.rename({'feature_0':'feature'}, axis=1)\r\n",
        "    features = pd.DataFrame(x['feature'].str.split(','))\r\n",
        "    x = pd.DataFrame(features.feature.values.tolist()).add_prefix('feature_')\r\n",
        "    x = x.fillna(0)\r\n",
        "    x = x.apply(np.float64)\r\n",
        "    return x"
      ],
      "execution_count": null,
      "outputs": []
    },
    {
      "cell_type": "code",
      "metadata": {
        "id": "o1no3B15FMXW"
      },
      "source": [
        "# get the data from csv\r\n",
        "\r\n",
        "csvfile = pd.read_csv('/content/drive/MyDrive/combine.csv')\r\n",
        "df = csvfile.sample(25000)"
      ],
      "execution_count": null,
      "outputs": []
    },
    {
      "cell_type": "code",
      "metadata": {
        "colab": {
          "base_uri": "https://localhost:8080/"
        },
        "id": "Qw30i3x18984",
        "outputId": "913f5376-5684-4d40-8a92-d07ea013507f"
      },
      "source": [
        "print(df['app_label'].unique())"
      ],
      "execution_count": null,
      "outputs": [
        {
          "output_type": "stream",
          "text": [
            "['12' '2' '15' '11' nan '13' '5' '16' '7' '3' '6' '1' '4' '9' '0' '8' '10'\n",
            " 'app_label']\n"
          ],
          "name": "stdout"
        }
      ]
    },
    {
      "cell_type": "code",
      "metadata": {
        "id": "MM6pCGN3AyOr"
      },
      "source": [
        "#### todo - count the number of uniques with FM"
      ],
      "execution_count": null,
      "outputs": []
    },
    {
      "cell_type": "code",
      "metadata": {
        "id": "3aM3HWDRFJ0Z"
      },
      "source": [
        "from torch.utils.data import Dataset\r\n",
        "\r\n",
        "class PcapDataset(Dataset):\r\n",
        "    def __init__(self, df_train):\r\n",
        "      x = preprocessing_features(df_train)\r\n",
        "      y = df_train['app_label']\r\n",
        "      y = y.apply(np.float64)\r\n",
        "      y.replace('0', 0, inplace=True)\r\n",
        "      y.replace('1', 1, inplace=True)\r\n",
        "      y.replace('2', 2, inplace=True)\r\n",
        "      y.replace('3', 3, inplace=True)\r\n",
        "      y.replace('4', 4, inplace=True)\r\n",
        "      y.replace('5', 5, inplace=True)\r\n",
        "      y.replace('6', 6, inplace=True)\r\n",
        "      y.replace('7', 7, inplace=True)\r\n",
        "      y.replace('8', 8, inplace=True)\r\n",
        "      y.replace('9', 9, inplace=True)\r\n",
        "      y.replace('10', 10, inplace=True)\r\n",
        "      y.replace('11', 11, inplace=True)\r\n",
        "      y.replace('12', 12, inplace=True)\r\n",
        "      y.replace('13', 13, inplace=True)\r\n",
        "      y.replace('15', 15, inplace=True)\r\n",
        "      y.replace('16', 14, inplace=True)\r\n",
        "\r\n",
        "      self.x_train = torch.tensor(x.values, dtype=torch.float64)\r\n",
        "      self.y_train = torch.tensor(y.values, dtype=torch.float64)\r\n",
        "\r\n",
        "    def __len__(self):\r\n",
        "        return len(self.y_train)\r\n",
        "\r\n",
        "    def __getitem__(self, idx):\r\n",
        "        return self.x_train[idx], self.y_train[idx]"
      ],
      "execution_count": null,
      "outputs": []
    },
    {
      "cell_type": "code",
      "metadata": {
        "colab": {
          "base_uri": "https://localhost:8080/"
        },
        "id": "MZxsGHq_8llb",
        "outputId": "f1dd2fb7-dd93-4f9a-aee8-8faab77f1c00"
      },
      "source": [
        "# train-test split\r\n",
        "df['split'] = np.random.randn(df.shape[0], 1)\r\n",
        "msk = np.random.rand(len(df)) <= 0.8\r\n",
        "train = df[msk]\r\n",
        "test = df[~msk]\r\n",
        "train.drop(columns=['split'], inplace=True)\r\n",
        "test.drop(columns=['split'], inplace=True)\r\n",
        "train.dropna(axis=0, how='any', inplace=True)\r\n",
        "test.dropna(axis=0, how='any', inplace=True)\r\n",
        "\r\n",
        "# load data\r\n",
        "pcap_train = PcapDataset(train)\r\n",
        "print(pcap_train.y_train.unique())\r\n",
        "pcap_test = PcapDataset(test)\r\n",
        "print(pcap_test.y_train.unique())\r\n",
        "\r\n",
        "pcap_train.y_train[pcap_train.y_train==16] = 4\r\n",
        "pcap_test.y_train[pcap_test.y_train==16] = 4\r\n",
        "pcap_train.y_train[pcap_train.y_train==12] = 7\r\n",
        "pcap_test.y_train[pcap_test.y_train==12] = 7\r\n",
        "pcap_train.y_train[pcap_train.y_train==10] = 8\r\n",
        "pcap_test.y_train[pcap_test.y_train==10] = 8\r\n",
        "\r\n",
        "print(pcap_train.y_train.unique())\r\n",
        "print(pcap_test.y_train.unique())\r\n",
        "\r\n",
        "train_loader = torch.utils.data.DataLoader(pcap_train, batch_size=25, shuffle=True, drop_last=True)\r\n",
        "test_loader = torch.utils.data.DataLoader(pcap_test, batch_size=25, shuffle=False, drop_last=True)"
      ],
      "execution_count": null,
      "outputs": [
        {
          "output_type": "stream",
          "text": [
            "tensor([ 0.,  1.,  2.,  3.,  5.,  6.,  9., 10., 12., 16.], dtype=torch.float64)\n",
            "tensor([ 0.,  1.,  2.,  3.,  5.,  6.,  9., 10., 12., 16.], dtype=torch.float64)\n",
            "tensor([0., 1., 2., 3., 4., 5., 6., 7., 8., 9.], dtype=torch.float64)\n",
            "tensor([0., 1., 2., 3., 4., 5., 6., 7., 8., 9.], dtype=torch.float64)\n"
          ],
          "name": "stdout"
        }
      ]
    },
    {
      "cell_type": "markdown",
      "metadata": {
        "id": "7pVqhogvABIO"
      },
      "source": [
        "# **CNN - train and evaluate model on original data** (packets before sampling)"
      ]
    },
    {
      "cell_type": "code",
      "metadata": {
        "id": "sEDlcbA-IgHx"
      },
      "source": [
        "class CNN(nn.Module):\r\n",
        "\r\n",
        "  def __init__(self):\r\n",
        "      super(CNN, self).__init__()\r\n",
        "      self.conv1 = nn.Conv1d(1, 200, 5, 1, 0)\r\n",
        "      self.conv2 = nn.Conv1d(200, 100, 5, 1, 0)\r\n",
        "\r\n",
        "      self.dropout = nn.Dropout(p=0.05)\r\n",
        "\r\n",
        "      self.fc1 = nn.Linear(37200, 10000)\r\n",
        "      self.fc2 = nn.Linear(10000, 2000)\r\n",
        "      self.fc3 = nn.Linear(2000, 500)\r\n",
        "      self.fc4 = nn.Linear(500, 100)\r\n",
        "      self.out = nn.Linear(100,10)\r\n",
        "\r\n",
        "  def forward(self, x):\r\n",
        "      x = F.avg_pool1d(F.relu(self.conv1(x)),2)\r\n",
        "      x = self.dropout(x)\r\n",
        "      x = F.avg_pool1d(F.relu(self.conv2(x)),2)\r\n",
        "      x = self.dropout(x)\r\n",
        "\r\n",
        "      x = torch.flatten(x, start_dim=1)\r\n",
        "      x = F.relu(self.fc1(x))\r\n",
        "      x = self.dropout(x)     \r\n",
        "      x = F.relu(self.fc2(x))\r\n",
        "      x = self.dropout(x)\r\n",
        "      x = F.relu(self.fc3(x))\r\n",
        "      x = self.dropout(x)\r\n",
        "      x = F.relu(self.fc4(x))\r\n",
        "      x = self.dropout(x)\r\n",
        "\r\n",
        "      x = self.out(x)\r\n",
        "\r\n",
        "      return x"
      ],
      "execution_count": null,
      "outputs": []
    },
    {
      "cell_type": "code",
      "metadata": {
        "colab": {
          "base_uri": "https://localhost:8080/"
        },
        "id": "STWD5N_6KK1W",
        "outputId": "95c09d0c-5065-4a13-fc85-689532375360"
      },
      "source": [
        "model = CNN().cuda()\r\n",
        "print(model)\r\n",
        "criterion = nn.CrossEntropyLoss()\r\n",
        "optimizer = torch.optim.Adam(model.parameters())"
      ],
      "execution_count": null,
      "outputs": [
        {
          "output_type": "stream",
          "text": [
            "CNN(\n",
            "  (conv1): Conv1d(1, 200, kernel_size=(5,), stride=(1,))\n",
            "  (conv2): Conv1d(200, 100, kernel_size=(5,), stride=(1,))\n",
            "  (dropout): Dropout(p=0.05, inplace=False)\n",
            "  (fc1): Linear(in_features=37200, out_features=10000, bias=True)\n",
            "  (fc2): Linear(in_features=10000, out_features=2000, bias=True)\n",
            "  (fc3): Linear(in_features=2000, out_features=500, bias=True)\n",
            "  (fc4): Linear(in_features=500, out_features=100, bias=True)\n",
            "  (out): Linear(in_features=100, out_features=10, bias=True)\n",
            ")\n"
          ],
          "name": "stdout"
        }
      ]
    },
    {
      "cell_type": "code",
      "metadata": {
        "colab": {
          "base_uri": "https://localhost:8080/"
        },
        "id": "EIb2mrubKYTm",
        "outputId": "34d1f7a0-0aad-4c99-f257-36d12b9f0818"
      },
      "source": [
        "# Train the model\r\n",
        "train_loss = []\r\n",
        "interval_tuples = []\r\n",
        "start = time.time()\r\n",
        "\r\n",
        "for epoch in range(5):\r\n",
        "    running_train_loss = 0.0\r\n",
        "    for i, data in enumerate(train_loader, 0):\r\n",
        "        inputs, labels = data\r\n",
        "        labels = labels.long()\r\n",
        "        inputs = np.expand_dims(inputs, axis=1)\r\n",
        "        inputs = torch.Tensor(inputs)\r\n",
        "        inputs = inputs.cuda() # -- for GPU\r\n",
        "        labels = labels.cuda() # -- for GPU\r\n",
        "        \r\n",
        "        # zero the parameters gradients\r\n",
        "        optimizer.zero_grad()\r\n",
        "\r\n",
        "        # forward + backward + optimization\r\n",
        "        outputs = model(inputs)\r\n",
        "\r\n",
        "        #print(outputs)\r\n",
        "        loss = criterion(outputs, labels)\r\n",
        "        loss.backward()\r\n",
        "        optimizer.step()\r\n",
        "        # print statistics\r\n",
        "        running_train_loss += loss.item()\r\n",
        "        if (i+1) % 100 == 0:\r\n",
        "            interval_tuples.append(str((epoch + 1, i + 1)))\r\n",
        "            print(\"[{}, {}] loss: {}\".format(epoch + 1, i + 1, running_train_loss / 100))\r\n",
        "            train_loss.append(running_train_loss / 100)\r\n",
        "            running_train_loss = 0.0\r\n",
        "\r\n",
        "stop = time.time()\r\n",
        "original_time = stop - start\r\n",
        "print(\"Training time: {}\".format(original_time))"
      ],
      "execution_count": null,
      "outputs": [
        {
          "output_type": "stream",
          "text": [
            "[1, 100] loss: 1.6967411267757415\n",
            "[1, 200] loss: 1.0780961614847184\n",
            "[1, 300] loss: 0.9364564970135689\n",
            "[2, 100] loss: 0.7598067459464073\n",
            "[2, 200] loss: 0.6995960634946823\n",
            "[2, 300] loss: 0.571609861254692\n",
            "[3, 100] loss: 0.45884710416197777\n",
            "[3, 200] loss: 0.3646746177598834\n",
            "[3, 300] loss: 0.3759223698452115\n",
            "[4, 100] loss: 0.47412117034196855\n",
            "[4, 200] loss: 0.3878405373543501\n",
            "[4, 300] loss: 0.3362208106834441\n",
            "[5, 100] loss: 0.25473055101931097\n",
            "[5, 200] loss: 0.25973448319360615\n",
            "[5, 300] loss: 0.26319152565672993\n",
            "Training time: 586.8856654167175\n"
          ],
          "name": "stdout"
        }
      ]
    },
    {
      "cell_type": "code",
      "metadata": {
        "colab": {
          "base_uri": "https://localhost:8080/"
        },
        "id": "kvIyZOZ7lBM4",
        "outputId": "9d36d82a-8ebc-4003-86c0-5067d1bdb073"
      },
      "source": [
        "total = 0\r\n",
        "correct = 0\r\n",
        "with torch.no_grad(): \r\n",
        "    for data in test_loader:\r\n",
        "        inputs, labels = data\r\n",
        "        labels = labels.float()\r\n",
        "        inputs = np.expand_dims(inputs, axis=1)\r\n",
        "        inputs = torch.Tensor(inputs)\r\n",
        "        inputs = inputs.cuda() # -- for GPU\r\n",
        "        labels = labels.cuda() # -- for GPU\r\n",
        "\r\n",
        "        outputs = model(inputs)\r\n",
        "        _, predicted = torch.max(outputs.data, 1)\r\n",
        "        total += labels.size(0)\r\n",
        "        correct += (predicted == labels).sum().item()\r\n",
        "original_accuracy = (100 * correct / total)\r\n",
        "print('Accuracy: {}%'.format(original_accuracy))"
      ],
      "execution_count": null,
      "outputs": [
        {
          "output_type": "stream",
          "text": [
            "Accuracy: 93.4320987654321%\n"
          ],
          "name": "stdout"
        }
      ]
    },
    {
      "cell_type": "markdown",
      "metadata": {
        "id": "u7yZ1VslAXdF"
      },
      "source": [
        "# **Packets' sampling experiments**"
      ]
    },
    {
      "cell_type": "code",
      "metadata": {
        "id": "mzXjJFq6BLXy"
      },
      "source": [
        "def trimmed_packet(df, trimmed_length):\r\n",
        "    # Systematic sampling - trimming the packet (first trimmed_length_bytes)\r\n",
        "    return df[df.columns[0:trimmed_length]] \r\n",
        "\r\n",
        "def every_other_x_packet(df, x):\r\n",
        "    # Systematic sampling - choosing every other xth element of the packet\r\n",
        "    return df[df.columns[::x]]\r\n",
        "\r\n",
        "def random_sampled_packet(df, sampled_length):\r\n",
        "    # Random sampling (reservoir)\r\n",
        "    i = 0\r\n",
        "    r = np.zeros((df.shape[0],sampled_length))\r\n",
        "    for i in range(df.shape[0]):\r\n",
        "      for j in range(sampled_length):\r\n",
        "          r[i,j] = df.iloc[i,j]\r\n",
        "      for j in range(sampled_length,df.shape[1]):\r\n",
        "          l = random.randrange(j + 1)\r\n",
        "          if l < sampled_length:\r\n",
        "              k = random.randrange(sampled_length)\r\n",
        "              r[i,k] = df.iloc[i,k]\r\n",
        "    return pd.DataFrame(r)"
      ],
      "execution_count": null,
      "outputs": []
    },
    {
      "cell_type": "code",
      "metadata": {
        "id": "qr6egJwwBw3n"
      },
      "source": [
        "df_train = pd.DataFrame(pcap_train.x_train.numpy())\r\n",
        "df_test = pd.DataFrame(pcap_test.x_train.numpy())"
      ],
      "execution_count": null,
      "outputs": []
    },
    {
      "cell_type": "code",
      "metadata": {
        "id": "85WjaRLdPTkT"
      },
      "source": [
        "# 50%\r\n",
        "\r\n",
        "random_train = random_sampled_packet(df_train, 750)\r\n",
        "random_test = random_sampled_packet(df_test, 750)\r\n",
        "\r\n",
        "trimmed_train = trimmed_packet(df_train, 750)\r\n",
        "trimmed_test = trimmed_packet(df_test, 750)\r\n",
        "\r\n",
        "everyother_train = every_other_x_packet(df_train, 2)\r\n",
        "everyother_test = every_other_x_packet(df_test, 2)"
      ],
      "execution_count": null,
      "outputs": []
    },
    {
      "cell_type": "code",
      "metadata": {
        "id": "IX9X6ULkHJzh"
      },
      "source": [
        "# 20%\r\n",
        "\r\n",
        "random_train = random_sampled_packet(df_train, 300)\r\n",
        "random_test = random_sampled_packet(df_test, 300)\r\n",
        "\r\n",
        "trimmed_train = trimmed_packet(df_train, 300)\r\n",
        "trimmed_test = trimmed_packet(df_test, 300)\r\n",
        "\r\n",
        "everyother_train = every_other_x_packet(df_train, 5)\r\n",
        "everyother_test = every_other_x_packet(df_test, 5)"
      ],
      "execution_count": null,
      "outputs": []
    },
    {
      "cell_type": "code",
      "metadata": {
        "colab": {
          "base_uri": "https://localhost:8080/",
          "height": 380
        },
        "id": "UDgMO36qPTzI",
        "outputId": "766637a7-af05-4268-a754-57fa763f95e1"
      },
      "source": [
        "# 10%\r\n",
        "\r\n",
        "random_train = random_sampled_packet(df_train, 150)\r\n",
        "random_test = random_sampled_packet(df_test, 150)\r\n",
        "\r\n",
        "\r\n",
        "trimmed_train = trimmed_packet(df_train, 150)\r\n",
        "trimmed_test = trimmed_packet(df_test, 150)\r\n",
        "\r\n",
        "everyother_train = every_other_x_packet(df_train, 10)\r\n",
        "everyother_test = every_other_x_packet(df_test, 10)"
      ],
      "execution_count": null,
      "outputs": [
        {
          "output_type": "error",
          "ename": "KeyboardInterrupt",
          "evalue": "ignored",
          "traceback": [
            "\u001b[0;31m---------------------------------------------------------------------------\u001b[0m",
            "\u001b[0;31mKeyboardInterrupt\u001b[0m                         Traceback (most recent call last)",
            "\u001b[0;32m<ipython-input-32-8b81a4811080>\u001b[0m in \u001b[0;36m<module>\u001b[0;34m()\u001b[0m\n\u001b[1;32m      1\u001b[0m \u001b[0;31m# 10%\u001b[0m\u001b[0;34m\u001b[0m\u001b[0;34m\u001b[0m\u001b[0;34m\u001b[0m\u001b[0m\n\u001b[1;32m      2\u001b[0m \u001b[0;34m\u001b[0m\u001b[0m\n\u001b[0;32m----> 3\u001b[0;31m \u001b[0mrandom_train\u001b[0m \u001b[0;34m=\u001b[0m \u001b[0mrandom_sampled_packet\u001b[0m\u001b[0;34m(\u001b[0m\u001b[0mdf_train\u001b[0m\u001b[0;34m,\u001b[0m \u001b[0;36m150\u001b[0m\u001b[0;34m)\u001b[0m\u001b[0;34m\u001b[0m\u001b[0;34m\u001b[0m\u001b[0m\n\u001b[0m\u001b[1;32m      4\u001b[0m \u001b[0mprint\u001b[0m\u001b[0;34m(\u001b[0m\u001b[0mrandom_train\u001b[0m\u001b[0;34m)\u001b[0m\u001b[0;34m\u001b[0m\u001b[0;34m\u001b[0m\u001b[0m\n\u001b[1;32m      5\u001b[0m \u001b[0mrandom_test\u001b[0m \u001b[0;34m=\u001b[0m \u001b[0mrandom_sampled_packet\u001b[0m\u001b[0;34m(\u001b[0m\u001b[0mdf_test\u001b[0m\u001b[0;34m,\u001b[0m \u001b[0;36m150\u001b[0m\u001b[0;34m)\u001b[0m\u001b[0;34m\u001b[0m\u001b[0;34m\u001b[0m\u001b[0m\n",
            "\u001b[0;32m<ipython-input-30-9438a7b71b1d>\u001b[0m in \u001b[0;36mrandom_sampled_packet\u001b[0;34m(df, sampled_length)\u001b[0m\n\u001b[1;32m     18\u001b[0m           \u001b[0;32mif\u001b[0m \u001b[0ml\u001b[0m \u001b[0;34m<\u001b[0m \u001b[0msampled_length\u001b[0m\u001b[0;34m:\u001b[0m\u001b[0;34m\u001b[0m\u001b[0;34m\u001b[0m\u001b[0m\n\u001b[1;32m     19\u001b[0m               \u001b[0mk\u001b[0m \u001b[0;34m=\u001b[0m \u001b[0mrandom\u001b[0m\u001b[0;34m.\u001b[0m\u001b[0mrandrange\u001b[0m\u001b[0;34m(\u001b[0m\u001b[0msampled_length\u001b[0m\u001b[0;34m)\u001b[0m\u001b[0;34m\u001b[0m\u001b[0;34m\u001b[0m\u001b[0m\n\u001b[0;32m---> 20\u001b[0;31m               \u001b[0mr\u001b[0m\u001b[0;34m[\u001b[0m\u001b[0mi\u001b[0m\u001b[0;34m,\u001b[0m\u001b[0mk\u001b[0m\u001b[0;34m]\u001b[0m \u001b[0;34m=\u001b[0m \u001b[0mdf\u001b[0m\u001b[0;34m.\u001b[0m\u001b[0miloc\u001b[0m\u001b[0;34m[\u001b[0m\u001b[0mi\u001b[0m\u001b[0;34m,\u001b[0m\u001b[0mk\u001b[0m\u001b[0;34m]\u001b[0m\u001b[0;34m\u001b[0m\u001b[0;34m\u001b[0m\u001b[0m\n\u001b[0m\u001b[1;32m     21\u001b[0m     \u001b[0;32mreturn\u001b[0m \u001b[0mpd\u001b[0m\u001b[0;34m.\u001b[0m\u001b[0mDataFrame\u001b[0m\u001b[0;34m(\u001b[0m\u001b[0mr\u001b[0m\u001b[0;34m)\u001b[0m\u001b[0;34m\u001b[0m\u001b[0;34m\u001b[0m\u001b[0m\n",
            "\u001b[0;32m/usr/local/lib/python3.7/dist-packages/pandas/core/indexing.py\u001b[0m in \u001b[0;36m__getitem__\u001b[0;34m(self, key)\u001b[0m\n\u001b[1;32m    867\u001b[0m             \u001b[0;32mif\u001b[0m \u001b[0mself\u001b[0m\u001b[0;34m.\u001b[0m\u001b[0m_is_scalar_access\u001b[0m\u001b[0;34m(\u001b[0m\u001b[0mkey\u001b[0m\u001b[0;34m)\u001b[0m\u001b[0;34m:\u001b[0m\u001b[0;34m\u001b[0m\u001b[0;34m\u001b[0m\u001b[0m\n\u001b[1;32m    868\u001b[0m                 \u001b[0;32mtry\u001b[0m\u001b[0;34m:\u001b[0m\u001b[0;34m\u001b[0m\u001b[0;34m\u001b[0m\u001b[0m\n\u001b[0;32m--> 869\u001b[0;31m                     \u001b[0;32mreturn\u001b[0m \u001b[0mself\u001b[0m\u001b[0;34m.\u001b[0m\u001b[0mobj\u001b[0m\u001b[0;34m.\u001b[0m\u001b[0m_get_value\u001b[0m\u001b[0;34m(\u001b[0m\u001b[0;34m*\u001b[0m\u001b[0mkey\u001b[0m\u001b[0;34m,\u001b[0m \u001b[0mtakeable\u001b[0m\u001b[0;34m=\u001b[0m\u001b[0mself\u001b[0m\u001b[0;34m.\u001b[0m\u001b[0m_takeable\u001b[0m\u001b[0;34m)\u001b[0m\u001b[0;34m\u001b[0m\u001b[0;34m\u001b[0m\u001b[0m\n\u001b[0m\u001b[1;32m    870\u001b[0m                 \u001b[0;32mexcept\u001b[0m \u001b[0;34m(\u001b[0m\u001b[0mKeyError\u001b[0m\u001b[0;34m,\u001b[0m \u001b[0mIndexError\u001b[0m\u001b[0;34m,\u001b[0m \u001b[0mAttributeError\u001b[0m\u001b[0;34m)\u001b[0m\u001b[0;34m:\u001b[0m\u001b[0;34m\u001b[0m\u001b[0;34m\u001b[0m\u001b[0m\n\u001b[1;32m    871\u001b[0m                     \u001b[0;31m# AttributeError for IntervalTree get_value\u001b[0m\u001b[0;34m\u001b[0m\u001b[0;34m\u001b[0m\u001b[0;34m\u001b[0m\u001b[0m\n",
            "\u001b[0;32m/usr/local/lib/python3.7/dist-packages/pandas/core/frame.py\u001b[0m in \u001b[0;36m_get_value\u001b[0;34m(self, index, col, takeable)\u001b[0m\n\u001b[1;32m   3005\u001b[0m         \"\"\"\n\u001b[1;32m   3006\u001b[0m         \u001b[0;32mif\u001b[0m \u001b[0mtakeable\u001b[0m\u001b[0;34m:\u001b[0m\u001b[0;34m\u001b[0m\u001b[0;34m\u001b[0m\u001b[0m\n\u001b[0;32m-> 3007\u001b[0;31m             \u001b[0mseries\u001b[0m \u001b[0;34m=\u001b[0m \u001b[0mself\u001b[0m\u001b[0;34m.\u001b[0m\u001b[0m_ixs\u001b[0m\u001b[0;34m(\u001b[0m\u001b[0mcol\u001b[0m\u001b[0;34m,\u001b[0m \u001b[0maxis\u001b[0m\u001b[0;34m=\u001b[0m\u001b[0;36m1\u001b[0m\u001b[0;34m)\u001b[0m\u001b[0;34m\u001b[0m\u001b[0;34m\u001b[0m\u001b[0m\n\u001b[0m\u001b[1;32m   3008\u001b[0m             \u001b[0;32mreturn\u001b[0m \u001b[0mseries\u001b[0m\u001b[0;34m.\u001b[0m\u001b[0m_values\u001b[0m\u001b[0;34m[\u001b[0m\u001b[0mindex\u001b[0m\u001b[0;34m]\u001b[0m\u001b[0;34m\u001b[0m\u001b[0;34m\u001b[0m\u001b[0m\n\u001b[1;32m   3009\u001b[0m \u001b[0;34m\u001b[0m\u001b[0m\n",
            "\u001b[0;32m/usr/local/lib/python3.7/dist-packages/pandas/core/frame.py\u001b[0m in \u001b[0;36m_ixs\u001b[0;34m(self, i, axis)\u001b[0m\n\u001b[1;32m   2844\u001b[0m             \u001b[0mlabel\u001b[0m \u001b[0;34m=\u001b[0m \u001b[0mself\u001b[0m\u001b[0;34m.\u001b[0m\u001b[0mcolumns\u001b[0m\u001b[0;34m[\u001b[0m\u001b[0mi\u001b[0m\u001b[0;34m]\u001b[0m\u001b[0;34m\u001b[0m\u001b[0;34m\u001b[0m\u001b[0m\n\u001b[1;32m   2845\u001b[0m \u001b[0;34m\u001b[0m\u001b[0m\n\u001b[0;32m-> 2846\u001b[0;31m             \u001b[0mvalues\u001b[0m \u001b[0;34m=\u001b[0m \u001b[0mself\u001b[0m\u001b[0;34m.\u001b[0m\u001b[0m_mgr\u001b[0m\u001b[0;34m.\u001b[0m\u001b[0miget\u001b[0m\u001b[0;34m(\u001b[0m\u001b[0mi\u001b[0m\u001b[0;34m)\u001b[0m\u001b[0;34m\u001b[0m\u001b[0;34m\u001b[0m\u001b[0m\n\u001b[0m\u001b[1;32m   2847\u001b[0m             \u001b[0mresult\u001b[0m \u001b[0;34m=\u001b[0m \u001b[0mself\u001b[0m\u001b[0;34m.\u001b[0m\u001b[0m_box_col_values\u001b[0m\u001b[0;34m(\u001b[0m\u001b[0mvalues\u001b[0m\u001b[0;34m,\u001b[0m \u001b[0mi\u001b[0m\u001b[0;34m)\u001b[0m\u001b[0;34m\u001b[0m\u001b[0;34m\u001b[0m\u001b[0m\n\u001b[1;32m   2848\u001b[0m \u001b[0;34m\u001b[0m\u001b[0m\n",
            "\u001b[0;32m/usr/local/lib/python3.7/dist-packages/pandas/core/internals/managers.py\u001b[0m in \u001b[0;36miget\u001b[0;34m(self, i)\u001b[0m\n\u001b[1;32m    995\u001b[0m         \u001b[0mReturn\u001b[0m \u001b[0mthe\u001b[0m \u001b[0mdata\u001b[0m \u001b[0;32mas\u001b[0m \u001b[0ma\u001b[0m \u001b[0mSingleBlockManager\u001b[0m\u001b[0;34m.\u001b[0m\u001b[0;34m\u001b[0m\u001b[0;34m\u001b[0m\u001b[0m\n\u001b[1;32m    996\u001b[0m         \"\"\"\n\u001b[0;32m--> 997\u001b[0;31m         \u001b[0mblock\u001b[0m \u001b[0;34m=\u001b[0m \u001b[0mself\u001b[0m\u001b[0;34m.\u001b[0m\u001b[0mblocks\u001b[0m\u001b[0;34m[\u001b[0m\u001b[0mself\u001b[0m\u001b[0;34m.\u001b[0m\u001b[0mblknos\u001b[0m\u001b[0;34m[\u001b[0m\u001b[0mi\u001b[0m\u001b[0;34m]\u001b[0m\u001b[0;34m]\u001b[0m\u001b[0;34m\u001b[0m\u001b[0;34m\u001b[0m\u001b[0m\n\u001b[0m\u001b[1;32m    998\u001b[0m         \u001b[0mvalues\u001b[0m \u001b[0;34m=\u001b[0m \u001b[0mblock\u001b[0m\u001b[0;34m.\u001b[0m\u001b[0miget\u001b[0m\u001b[0;34m(\u001b[0m\u001b[0mself\u001b[0m\u001b[0;34m.\u001b[0m\u001b[0mblklocs\u001b[0m\u001b[0;34m[\u001b[0m\u001b[0mi\u001b[0m\u001b[0;34m]\u001b[0m\u001b[0;34m)\u001b[0m\u001b[0;34m\u001b[0m\u001b[0;34m\u001b[0m\u001b[0m\n\u001b[1;32m    999\u001b[0m \u001b[0;34m\u001b[0m\u001b[0m\n",
            "\u001b[0;31mKeyboardInterrupt\u001b[0m: "
          ]
        }
      ]
    },
    {
      "cell_type": "code",
      "metadata": {
        "id": "rM7Xvy0jPT_o"
      },
      "source": [
        "# 5%\r\n",
        "\r\n",
        "random_train = random_sampled_packet(df_train, 75)\r\n",
        "random_test = random_sampled_packet(df_test, 75)\r\n",
        "\r\n",
        "trimmed_train = trimmed_packet(df_train, 75)\r\n",
        "trimmed_test = trimmed_packet(df_test, 75)\r\n",
        "\r\n",
        "everyother_train = every_other_x_packet(df_train, 20)\r\n",
        "everyother_test = every_other_x_packet(df_test, 20)"
      ],
      "execution_count": null,
      "outputs": []
    },
    {
      "cell_type": "code",
      "metadata": {
        "id": "ynvhO8o6PULe"
      },
      "source": [
        "# 3%\r\n",
        "\r\n",
        "random_train = random_sampled_packet(df_train, 45)\r\n",
        "random_test = random_sampled_packet(df_test, 45)\r\n",
        "\r\n",
        "trimmed_train = trimmed_packet(df_train, 45)\r\n",
        "trimmed_test = trimmed_packet(df_test, 45)\r\n",
        "\r\n",
        "everyother_train = every_other_x_packet(df_train, 33)\r\n",
        "everyother_test = every_other_x_packet(df_test, 33)"
      ],
      "execution_count": null,
      "outputs": []
    },
    {
      "cell_type": "code",
      "metadata": {
        "colab": {
          "base_uri": "https://localhost:8080/"
        },
        "id": "-INnP_voPUX-",
        "outputId": "0f9a4645-4348-4b80-edf4-8299cac92957"
      },
      "source": [
        "# 1%\r\n",
        "\r\n",
        "random_train = random_sampled_packet(df_train, 15)\r\n",
        "random_test = random_sampled_packet(df_test, 15)\r\n",
        "\r\n",
        "trimmed_train = trimmed_packet(df_train, 15)\r\n",
        "trimmed_test = trimmed_packet(df_test, 15)\r\n",
        "\r\n",
        "everyother_train = every_other_x_packet(df_train, 100)\r\n",
        "everyother_test = every_other_x_packet(df_test, 100)"
      ],
      "execution_count": null,
      "outputs": [
        {
          "output_type": "stream",
          "text": [
            "            0    1         2         3   ...        11   12   13   14\n",
            "0     0.270588  0.0  0.003922  0.792157  ...  0.858824  0.0  0.0  0.0\n",
            "1     0.270588  0.0  0.000000  0.572549  ...  0.000000  0.0  0.0  0.0\n",
            "2     0.270588  0.0  0.000000  0.156863  ...  0.952941  0.0  0.0  0.0\n",
            "3     0.270588  0.0  0.019608  0.431373  ...  0.690196  0.0  0.0  0.0\n",
            "4     0.270588  0.0  0.101961  0.337255  ...  0.603922  0.0  0.0  0.0\n",
            "...        ...  ...       ...       ...  ...       ...  ...  ...  ...\n",
            "8337  0.270588  0.0  0.000000  0.196078  ...  0.984314  0.0  0.0  0.0\n",
            "8338  0.270588  0.0  0.000000  0.964706  ...  0.000000  0.0  0.0  0.0\n",
            "8339  0.270588  0.0  0.000000  0.286275  ...  0.066667  0.0  0.0  0.0\n",
            "8340  0.270588  0.0  0.000000  0.572549  ...  0.000000  0.0  0.0  0.0\n",
            "8341  0.270588  0.0  0.019608  0.431373  ...  0.796078  0.0  0.0  0.0\n",
            "\n",
            "[8342 rows x 15 columns]\n"
          ],
          "name": "stdout"
        }
      ]
    },
    {
      "cell_type": "code",
      "metadata": {
        "id": "PJ3Jf7aCEsk_"
      },
      "source": [
        "random_train_tensor = torch.tensor(random_train.values)\r\n",
        "random_test_tensor = torch.tensor(random_test.values)\r\n",
        "\r\n",
        "trimmed_train_tensor = torch.tensor(trimmed_train.values)\r\n",
        "trimmed_test_tensor = torch.tensor(trimmed_test.values)\r\n",
        "\r\n",
        "everyother_train_tensor = torch.tensor(everyother_train.values)\r\n",
        "everyother_test_tensor = torch.tensor(everyother_test.values)"
      ],
      "execution_count": null,
      "outputs": []
    },
    {
      "cell_type": "code",
      "metadata": {
        "id": "xgLTNVwkHsXr"
      },
      "source": [
        "#pcap_train.x_train = random_train_tensor\r\n",
        "#pcap_test.x_train = random_test_tensor\r\n",
        "\r\n",
        "#pcap_train.x_train = trimmed_train_tensor\r\n",
        "#pcap_test.x_train = trimmed_test_tensor\r\n",
        "\r\n",
        "pcap_train.x_train = everyother_train_tensor\r\n",
        "pcap_test.x_train = everyother_test_tensor\r\n",
        "\r\n",
        "train_loader = torch.utils.data.DataLoader(pcap_train, batch_size=25, shuffle=True, drop_last=True)\r\n",
        "test_loader = torch.utils.data.DataLoader(pcap_test, batch_size=25, shuffle=False, drop_last=True)"
      ],
      "execution_count": null,
      "outputs": []
    },
    {
      "cell_type": "code",
      "metadata": {
        "id": "5KuyBzswE7jQ"
      },
      "source": [
        "class CNN(nn.Module):\r\n",
        "\r\n",
        "  def __init__(self):\r\n",
        "      super(CNN, self).__init__()\r\n",
        "      self.conv1 = nn.Conv1d(1, 200, 5, 1, 0)\r\n",
        "      self.conv2 = nn.Conv1d(200, 100, 5, 1, 0)\r\n",
        "\r\n",
        "      self.dropout = nn.Dropout(p=0.05)\r\n",
        "\r\n",
        "      self.fc1 = nn.Linear(100, 10000)\r\n",
        "      self.fc2 = nn.Linear(10000, 2000)\r\n",
        "      self.fc3 = nn.Linear(2000, 500)\r\n",
        "      self.fc4 = nn.Linear(500, 100)\r\n",
        "      self.out = nn.Linear(100,10)\r\n",
        "\r\n",
        "  def forward(self, x):\r\n",
        "      x = F.avg_pool1d(F.relu(self.conv1(x)),2)\r\n",
        "      x = self.dropout(x)\r\n",
        "      #x = F.avg_pool1d(F.relu(self.conv2(x)),2)\r\n",
        "      x = F.relu(self.conv2(x))\r\n",
        "      x = self.dropout(x)\r\n",
        "\r\n",
        "      x = torch.flatten(x, start_dim=1)\r\n",
        "      #print(x.shape)\r\n",
        "      x = F.relu(self.fc1(x))\r\n",
        "      x = self.dropout(x)     \r\n",
        "      x = F.relu(self.fc2(x))\r\n",
        "      x = self.dropout(x)\r\n",
        "      x = F.relu(self.fc3(x))\r\n",
        "      x = self.dropout(x)\r\n",
        "      x = F.relu(self.fc4(x))\r\n",
        "      x = self.dropout(x)\r\n",
        "\r\n",
        "      x = self.out(x)\r\n",
        "\r\n",
        "      return x"
      ],
      "execution_count": null,
      "outputs": []
    },
    {
      "cell_type": "code",
      "metadata": {
        "colab": {
          "base_uri": "https://localhost:8080/"
        },
        "id": "xvDTYvjmE_j_",
        "outputId": "d68b5540-371f-4326-9215-8d052d276b73"
      },
      "source": [
        "model = CNN().cuda()\r\n",
        "print(model)\r\n",
        "criterion = nn.CrossEntropyLoss()\r\n",
        "optimizer = torch.optim.Adam(model.parameters())"
      ],
      "execution_count": null,
      "outputs": [
        {
          "output_type": "stream",
          "text": [
            "CNN(\n",
            "  (conv1): Conv1d(1, 200, kernel_size=(5,), stride=(1,))\n",
            "  (conv2): Conv1d(200, 100, kernel_size=(5,), stride=(1,))\n",
            "  (dropout): Dropout(p=0.05, inplace=False)\n",
            "  (fc1): Linear(in_features=100, out_features=10000, bias=True)\n",
            "  (fc2): Linear(in_features=10000, out_features=2000, bias=True)\n",
            "  (fc3): Linear(in_features=2000, out_features=500, bias=True)\n",
            "  (fc4): Linear(in_features=500, out_features=100, bias=True)\n",
            "  (out): Linear(in_features=100, out_features=10, bias=True)\n",
            ")\n"
          ],
          "name": "stdout"
        }
      ]
    },
    {
      "cell_type": "code",
      "metadata": {
        "colab": {
          "base_uri": "https://localhost:8080/"
        },
        "id": "KsOHsWdXFDdM",
        "outputId": "f8194582-dd7d-4548-e1a6-e1b7b8d068fb"
      },
      "source": [
        "# Train the model\r\n",
        "train_loss = []\r\n",
        "interval_tuples = []\r\n",
        "start = time.time()\r\n",
        "\r\n",
        "for epoch in range(5):\r\n",
        "    running_train_loss = 0.0\r\n",
        "    for i, data in enumerate(train_loader, 0):\r\n",
        "        inputs, labels = data\r\n",
        "        labels = labels.long()\r\n",
        "        inputs = np.expand_dims(inputs, axis=1)\r\n",
        "        inputs = torch.Tensor(inputs)\r\n",
        "        inputs = inputs.cuda() # -- for GPU\r\n",
        "        labels = labels.cuda() # -- for GPU\r\n",
        "        \r\n",
        "        # zero the parameters gradients\r\n",
        "        optimizer.zero_grad()\r\n",
        "\r\n",
        "        # forward + backward + optimization\r\n",
        "        outputs = model(inputs)\r\n",
        "\r\n",
        "        #print(outputs)\r\n",
        "        loss = criterion(outputs, labels)\r\n",
        "        loss.backward()\r\n",
        "        optimizer.step()\r\n",
        "        # print statistics\r\n",
        "        running_train_loss += loss.item()\r\n",
        "        if (i+1) % 100 == 0:\r\n",
        "            interval_tuples.append(str((epoch + 1, i + 1)))\r\n",
        "            print(\"[{}, {}] loss: {}\".format(epoch + 1, i + 1, running_train_loss / 100))\r\n",
        "            train_loss.append(running_train_loss / 100)\r\n",
        "            running_train_loss = 0.0\r\n",
        "\r\n",
        "stop = time.time()\r\n",
        "print(\"Training time: {}\".format(stop-start))"
      ],
      "execution_count": null,
      "outputs": [
        {
          "output_type": "stream",
          "text": [
            "[1, 100] loss: 1.664492518901825\n",
            "[1, 200] loss: 1.650209059715271\n",
            "[1, 300] loss: 1.6121315360069275\n",
            "[2, 100] loss: 1.6024015748500824\n",
            "[2, 200] loss: 1.5802311897277832\n",
            "[2, 300] loss: 1.5736321461200715\n",
            "[3, 100] loss: 1.5405156755447387\n",
            "[3, 200] loss: 1.5352309596538545\n",
            "[3, 300] loss: 1.5504788064956665\n",
            "[4, 100] loss: 1.5319498920440673\n",
            "[4, 200] loss: 1.5262454664707183\n",
            "[4, 300] loss: 1.5071083307266235\n",
            "[5, 100] loss: 1.5172078561782838\n",
            "[5, 200] loss: 1.5113618528842927\n",
            "[5, 300] loss: 1.5157889759540557\n",
            "Training time: 36.878968954086304\n"
          ],
          "name": "stdout"
        }
      ]
    },
    {
      "cell_type": "code",
      "metadata": {
        "colab": {
          "base_uri": "https://localhost:8080/"
        },
        "id": "JVDI0hFWFY_s",
        "outputId": "f1a188c8-6fa2-4cf2-807d-8f48abcf7632"
      },
      "source": [
        "total = 0\r\n",
        "correct = 0\r\n",
        "with torch.no_grad(): \r\n",
        "    for data in test_loader:\r\n",
        "        inputs, labels = data\r\n",
        "        labels = labels.float()\r\n",
        "        inputs = np.expand_dims(inputs, axis=1)\r\n",
        "        inputs = torch.Tensor(inputs)\r\n",
        "        inputs = inputs.cuda() # -- for GPU\r\n",
        "        labels = labels.cuda() # -- for GPU\r\n",
        "\r\n",
        "        outputs = model(inputs)\r\n",
        "        _, predicted = torch.max(outputs.data, 1)\r\n",
        "        total += labels.size(0)\r\n",
        "        correct += (predicted == labels).sum().item()\r\n",
        "print('Accuracy: {}%'.format((100 * correct / total)))"
      ],
      "execution_count": null,
      "outputs": [
        {
          "output_type": "stream",
          "text": [
            "Accuracy: 37.793103448275865%\n"
          ],
          "name": "stdout"
        }
      ]
    },
    {
      "cell_type": "markdown",
      "metadata": {
        "id": "J9m3vpFVgB2f"
      },
      "source": [
        "**Results' plot**"
      ]
    },
    {
      "cell_type": "code",
      "metadata": {
        "colab": {
          "base_uri": "https://localhost:8080/",
          "height": 637
        },
        "id": "fv8b9UCif8I3",
        "outputId": "0a86865c-39a7-48c9-eeb0-ea47aefcdc17"
      },
      "source": [
        "plt.figure(figsize=[15,10])\r\n",
        "plt.plot([0.01, 0.03, 0.05, 0.1, 0.2, 0.5], [80.18, 97.24, 98.25, 97.5, 95.68, 94.21],\r\n",
        "         [0.01, 0.03, 0.05, 0.1, 0.2, 0.5], [84.74, 95.91, 95.72, 95.36, 96.87, 95.49],\r\n",
        "         [0.01, 0.03, 0.05, 0.1, 0.2, 0.5], [37.39, 42.16, 65.98, 82.02, 88.37, 92.64])\r\n",
        "plt.xticks([0.01, 0.03, 0.05, 0.1, 0.2, 0.5])\r\n",
        "plt.hlines(93.47, 0.01, 0.5, linestyle='dashed', color='r')\r\n",
        "plt.legend(['random', 'trimming', 'every other', 'original accuracy'], prop={'size': 20})\r\n",
        "plt.ylim((35,100))\r\n",
        "plt.xlabel('Sample ratio', fontsize=20)\r\n",
        "plt.ylabel('Accuracy', fontsize=20)"
      ],
      "execution_count": null,
      "outputs": [
        {
          "output_type": "execute_result",
          "data": {
            "text/plain": [
              "Text(0, 0.5, 'Accuracy')"
            ]
          },
          "metadata": {
            "tags": []
          },
          "execution_count": 181
        },
        {
          "output_type": "display_data",
          "data": {
            "image/png": "[encoded data removed]",
            "text/plain": [
              "<Figure size 1080x720 with 1 Axes>"
            ]
          },
          "metadata": {
            "tags": []
          }
        }
      ]
    },
    {
      "cell_type": "code",
      "metadata": {
        "colab": {
          "base_uri": "https://localhost:8080/",
          "height": 633
        },
        "id": "Uzw47nbmlZs2",
        "outputId": "4d0ef43b-9f6e-4ecf-ea97-c5724fc000cc"
      },
      "source": [
        "plt.figure(figsize=[15,10])\r\n",
        "plt.plot([0.01, 0.03, 0.05, 0.1, 0.2, 0.5], [37, 47, 58, 85, 140, 304])\r\n",
        "plt.xticks([0.01, 0.03, 0.05, 0.1, 0.2, 0.5])\r\n",
        "plt.ylim((30,620))\r\n",
        "plt.hlines(596, 0.01, 0.5, linestyle='dashed', color='r')\r\n",
        "plt.legend(['average training time', 'original training time'], prop={'size': 20}, loc='lower right')\r\n",
        "plt.xlabel('Sample ratio', fontsize=20)\r\n",
        "plt.ylabel('Training time', fontsize=20)"
      ],
      "execution_count": null,
      "outputs": [
        {
          "output_type": "execute_result",
          "data": {
            "text/plain": [
              "Text(0, 0.5, 'Training time')"
            ]
          },
          "metadata": {
            "tags": []
          },
          "execution_count": 183
        },
        {
          "output_type": "display_data",
          "data": {
            "image/png": "[encoded data removed]",
            "text/plain": [
              "<Figure size 1080x720 with 1 Axes>"
            ]
          },
          "metadata": {
            "tags": []
          }
        }
      ]
    },
    {
      "cell_type": "markdown",
      "metadata": {
        "id": "6aMQl_vYaxPO"
      },
      "source": [
        "## **Dimensionality Reduction Experiments**"
      ]
    },
    {
      "cell_type": "code",
      "metadata": {
        "id": "4tThxN_niUp6"
      },
      "source": [
        "class CNN_JL(nn.Module):\r\n",
        "\r\n",
        "  def __init__(self, dim):\r\n",
        "      super(CNN_JL, self).__init__()\r\n",
        "      self.conv1 = nn.Conv1d(1, 200, 5, 1, 0)\r\n",
        "      self.conv2 = nn.Conv1d(200, 100, 5, 1, 0)\r\n",
        "\r\n",
        "      self.dropout = nn.Dropout(p=0.05)\r\n",
        "\r\n",
        "      self.fc1 = nn.Linear(dim, 10000)\r\n",
        "      self.fc2 = nn.Linear(10000, 2000)\r\n",
        "      self.fc3 = nn.Linear(2000, 500)\r\n",
        "      self.fc4 = nn.Linear(500, 100)\r\n",
        "      self.out = nn.Linear(100,10)\r\n",
        "\r\n",
        "  def forward(self, x):\r\n",
        "      x = F.avg_pool1d(F.relu(self.conv1(x)),2)\r\n",
        "      x = self.dropout(x)\r\n",
        "      x = F.avg_pool1d(F.relu(self.conv2(x)),2)\r\n",
        "    #   x = F.relu(self.conv2(x))\r\n",
        "      x = self.dropout(x)\r\n",
        "\r\n",
        "      x = torch.flatten(x, start_dim=1)\r\n",
        "      x = F.relu(self.fc1(x))\r\n",
        "      x = self.dropout(x)     \r\n",
        "      x = F.relu(self.fc2(x))\r\n",
        "      x = self.dropout(x)\r\n",
        "      x = F.relu(self.fc3(x))\r\n",
        "      x = self.dropout(x)\r\n",
        "      x = F.relu(self.fc4(x))\r\n",
        "      x = self.dropout(x)\r\n",
        "\r\n",
        "      x = self.out(x)\r\n",
        "\r\n",
        "      return x"
      ],
      "execution_count": null,
      "outputs": []
    },
    {
      "cell_type": "code",
      "metadata": {
        "id": "lpRjTudLiqZx"
      },
      "source": [
        "df_train = pd.DataFrame(pcap_train.x_train.numpy())\r\n",
        "df_test = pd.DataFrame(pcap_test.x_train.numpy())"
      ],
      "execution_count": null,
      "outputs": []
    },
    {
      "cell_type": "code",
      "metadata": {
        "colab": {
          "base_uri": "https://localhost:8080/"
        },
        "id": "1I1teOft63eP",
        "outputId": "a69b5adf-4108-42e4-91eb-d1aeec1f125d"
      },
      "source": [
        "from sklearn.random_projection import johnson_lindenstrauss_min_dim\r\n",
        "\r\n",
        "# get list of components for each epsilon in range 0,1 to 0.9\r\n",
        "components = []\r\n",
        "for eps in list(np.linspace(0.1, 0.9, 9)):\r\n",
        "    components.append(johnson_lindenstrauss_min_dim(1500,eps))\r\n",
        "components = pd.Series(components)\r\n",
        "components = components[components < 1500].sort_values(ascending=True)\r\n",
        "components = list(components)\r\n",
        "print(components)"
      ],
      "execution_count": null,
      "outputs": [
        {
          "output_type": "stream",
          "text": [
            "[180, 195, 223, 270, 351, 498, 812]\n"
          ],
          "name": "stdout"
        }
      ]
    },
    {
      "cell_type": "code",
      "metadata": {
        "colab": {
          "background_save": true,
          "base_uri": "https://localhost:8080/"
        },
        "id": "svuRzQkWhwci",
        "outputId": "ef299d4b-e45d-4f51-d86b-750bdd269c52"
      },
      "source": [
        "# Using Johnson-Lindenstrauss dimensionality reduction technique\r\n",
        "acc_jl_list = []\r\n",
        "from sklearn.random_projection import SparseRandomProjection\r\n",
        "# train model and get predictions\r\n",
        "for dim in components:\r\n",
        "    # dimensionality reduction\r\n",
        "    # create the transformation\r\n",
        "    sp = SparseRandomProjection(n_components = dim)\r\n",
        "    x_train_np = sp.fit_transform(df_train)\r\n",
        "    x_train_pd = pd.DataFrame(x_train_np)\r\n",
        "\r\n",
        "    # evaluate the model and update the list of accuracies\r\n",
        "    x_test_np = sp.transform(df_test)\r\n",
        "    x_test_pd = pd.DataFrame(x_test_np)\r\n",
        "\r\n",
        "    print(\"{} dimensions after JL dimensionality reduction\".format(dim))\r\n",
        "\r\n",
        "    # build model\r\n",
        "    model = CNN_JL(int(np.floor((np.floor((dim-4)/2)-4)/2)*100)).cuda()\r\n",
        "    criterion = nn.CrossEntropyLoss()\r\n",
        "    optimizer = torch.optim.Adam(model.parameters())\r\n",
        "\r\n",
        "    train_loss = []\r\n",
        "    interval_tuples = []\r\n",
        "    start = time.time()\r\n",
        "\r\n",
        "    pcap_train.x_train = torch.tensor(x_train_pd.values)\r\n",
        "    pcap_test.x_train = torch.tensor(x_test_pd.values)\r\n",
        "\r\n",
        "    train_loader = torch.utils.data.DataLoader(pcap_train, batch_size=25, shuffle=True, drop_last=True)\r\n",
        "    test_loader = torch.utils.data.DataLoader(pcap_test, batch_size=25, shuffle=False, drop_last=True)\r\n",
        "\r\n",
        "    for epoch in range(5):                               # todo - change back to 5 when running\r\n",
        "        running_train_loss = 0.0\r\n",
        "        for i, data in enumerate(train_loader, 0):\r\n",
        "            inputs, labels = data\r\n",
        "            labels = labels.long()\r\n",
        "            inputs = np.expand_dims(inputs, axis=1)\r\n",
        "            inputs = torch.Tensor(inputs)\r\n",
        "            inputs = inputs.cuda() # -- for GPU\r\n",
        "            labels = labels.cuda() # -- for GPU\r\n",
        "            \r\n",
        "            # zero the parameters gradients\r\n",
        "            optimizer.zero_grad()\r\n",
        "\r\n",
        "            # forward + backward + optimization\r\n",
        "            outputs = model(inputs)\r\n",
        "\r\n",
        "            loss = criterion(outputs, labels)\r\n",
        "            loss.backward()\r\n",
        "            optimizer.step()\r\n",
        "\r\n",
        "            # print statistics\r\n",
        "            running_train_loss += loss.item()\r\n",
        "            if (i+1) % 100 == 0:\r\n",
        "                interval_tuples.append(str((epoch + 1, i + 1)))\r\n",
        "                print(\"[{}, {}] loss: {}\".format(epoch + 1, i + 1, running_train_loss / 100))\r\n",
        "                train_loss.append(running_train_loss / 100)\r\n",
        "                running_train_loss = 0.0\r\n",
        "\r\n",
        "    stop = time.time()\r\n",
        "    print(\"Training time: {}\".format(stop-start))\r\n",
        "\r\n",
        "    # test accuracy\r\n",
        "    total = 0\r\n",
        "    correct = 0\r\n",
        "    with torch.no_grad(): \r\n",
        "        for data in test_loader:\r\n",
        "            inputs, labels = data\r\n",
        "            labels = labels.float()\r\n",
        "            inputs = np.expand_dims(inputs, axis=1)\r\n",
        "            inputs = torch.Tensor(inputs)\r\n",
        "            inputs = inputs.cuda() # -- for GPU\r\n",
        "            labels = labels.cuda() # -- for GPU\r\n",
        "\r\n",
        "            outputs = model(inputs)\r\n",
        "            _, predicted = torch.max(outputs.data, 1)\r\n",
        "            total += labels.size(0)\r\n",
        "            correct += (predicted == labels).sum().item()\r\n",
        "    accuracy = (100 * correct / total)\r\n",
        "    acc_jl_list.append(accuracy)\r\n",
        "    print('Accuracy: {}%'.format(accuracy))"
      ],
      "execution_count": null,
      "outputs": [
        {
          "output_type": "stream",
          "text": [
            "180 dimensions after JL dimensionality reduction\n",
            "[1, 100] loss: 1.7514568877220154\n",
            "[1, 200] loss: 1.2308864986896515\n",
            "[1, 300] loss: 1.0295799666643142\n",
            "[2, 100] loss: 0.9231122583150864\n",
            "[2, 200] loss: 0.9096909552812577\n",
            "[2, 300] loss: 0.8597238513827324\n",
            "[3, 100] loss: 0.8015600076317787\n",
            "[3, 200] loss: 0.7666018930077553\n",
            "[3, 300] loss: 0.7340525794029236\n",
            "[4, 100] loss: 0.6551377701759339\n",
            "[4, 200] loss: 0.6711338685452938\n",
            "[4, 300] loss: 0.6478825956583023\n",
            "[5, 100] loss: 0.5722953003644943\n",
            "[5, 200] loss: 0.6008952955901623\n",
            "[5, 300] loss: 0.5463512700796127\n",
            "Training time: 51.85697793960571\n",
            "Accuracy: 79.62352941176471%\n",
            "195 dimensions after JL dimensionality reduction\n",
            "[1, 100] loss: 1.9249365544319152\n",
            "[1, 200] loss: 1.5444816172122955\n",
            "[1, 300] loss: 1.2977855676412582\n",
            "[2, 100] loss: 1.0772901010513305\n",
            "[2, 200] loss: 1.0341978806257248\n",
            "[2, 300] loss: 0.8943522915244102\n",
            "[3, 100] loss: 0.8796272522211075\n",
            "[3, 200] loss: 0.8535493567585946\n",
            "[3, 300] loss: 0.8491699704527855\n",
            "[4, 100] loss: 0.8312174919247627\n",
            "[4, 200] loss: 0.7709904211759567\n",
            "[4, 300] loss: 0.7666865432262421\n",
            "[5, 100] loss: 0.7296164256334304\n",
            "[5, 200] loss: 0.7328286761045456\n",
            "[5, 300] loss: 0.7058730927109719\n",
            "Training time: 53.79972863197327\n",
            "Accuracy: 73.74117647058823%\n",
            "223 dimensions after JL dimensionality reduction\n",
            "[1, 100] loss: 1.7109186482429504\n",
            "[1, 200] loss: 1.238640513420105\n",
            "[1, 300] loss: 1.0101068231463433\n",
            "[2, 100] loss: 0.9110997706651688\n",
            "[2, 200] loss: 0.9062671780586242\n",
            "[2, 300] loss: 0.80406853556633\n",
            "[3, 100] loss: 0.7882924330234528\n",
            "[3, 200] loss: 0.7285412818193435\n",
            "[3, 300] loss: 0.7324783465266228\n",
            "[4, 100] loss: 0.663214008808136\n",
            "[4, 200] loss: 0.6564145471155644\n",
            "[4, 300] loss: 0.6294336560368538\n",
            "[5, 100] loss: 0.5464814987778663\n",
            "[5, 200] loss: 0.5090009795129299\n",
            "[5, 300] loss: 0.5706971405446529\n",
            "Training time: 59.452194690704346\n",
            "Accuracy: 77.78823529411764%\n",
            "270 dimensions after JL dimensionality reduction\n",
            "[1, 100] loss: 1.7809548723697661\n",
            "[1, 200] loss: 1.4042917042970657\n",
            "[1, 300] loss: 1.1885400587320327\n",
            "[2, 100] loss: 1.014769290983677\n",
            "[2, 200] loss: 0.9727076226472855\n",
            "[2, 300] loss: 0.9249163573980331\n",
            "[3, 100] loss: 0.8840588313341141\n",
            "[3, 200] loss: 0.854183806180954\n",
            "[3, 300] loss: 0.820283156633377\n",
            "[4, 100] loss: 0.7964668220281601\n",
            "[4, 200] loss: 0.7700350949168205\n",
            "[4, 300] loss: 0.7226726481318474\n",
            "[5, 100] loss: 0.6855209848284721\n",
            "[5, 200] loss: 0.6930452528595924\n",
            "[5, 300] loss: 0.6839518603682518\n",
            "Training time: 67.7090060710907\n",
            "Accuracy: 74.87058823529412%\n",
            "351 dimensions after JL dimensionality reduction\n",
            "[1, 100] loss: 1.7936147260665893\n",
            "[1, 200] loss: 1.4341933178901671\n",
            "[1, 300] loss: 1.0653981441259384\n",
            "[2, 100] loss: 0.8723567700386048\n",
            "[2, 200] loss: 0.8870264798402786\n",
            "[2, 300] loss: 0.8278775930404663\n",
            "[3, 100] loss: 0.7844548764824867\n",
            "[3, 200] loss: 0.774348862171173\n",
            "[3, 300] loss: 0.728502633869648\n",
            "[4, 100] loss: 0.6675310391932726\n",
            "[4, 200] loss: 0.6490206560492515\n",
            "[4, 300] loss: 0.6453173205256462\n",
            "[5, 100] loss: 0.572209849357605\n",
            "[5, 200] loss: 0.5848790059983731\n",
            "[5, 300] loss: 0.5419654072076082\n",
            "Training time: 83.77774286270142\n",
            "Accuracy: 82.7764705882353%\n",
            "498 dimensions after JL dimensionality reduction\n",
            "[1, 100] loss: 1.8284349393844606\n",
            "[1, 200] loss: 1.4165394365787507\n",
            "[1, 300] loss: 1.1999497425556183\n",
            "[2, 100] loss: 0.9051664283871651\n",
            "[2, 200] loss: 0.8972429901361465\n",
            "[2, 300] loss: 0.847390173971653\n",
            "[3, 100] loss: 0.7658216774463653\n",
            "[3, 200] loss: 0.7797850880026818\n",
            "[3, 300] loss: 0.7273157082498074\n",
            "[4, 100] loss: 0.6470839005708694\n",
            "[4, 200] loss: 0.6369402828812599\n",
            "[4, 300] loss: 0.6096263109147548\n",
            "[5, 100] loss: 0.5486202846467495\n",
            "[5, 200] loss: 0.5515757098793983\n",
            "[5, 300] loss: 0.5492557206749916\n",
            "Training time: 114.29865860939026\n",
            "Accuracy: 79.90588235294118%\n",
            "812 dimensions after JL dimensionality reduction\n",
            "[1, 100] loss: 1.904152009487152\n",
            "[1, 200] loss: 1.393717148900032\n",
            "[1, 300] loss: 1.233694874048233\n",
            "[2, 100] loss: 0.8858547765016556\n",
            "[2, 200] loss: 0.8543199935555458\n",
            "[2, 300] loss: 0.7447991916537284\n",
            "[3, 100] loss: 0.6873123219609261\n",
            "[3, 200] loss: 0.6946960569918156\n",
            "[3, 300] loss: 0.6681642663478852\n",
            "[4, 100] loss: 0.5491120393574238\n",
            "[4, 200] loss: 0.5688008064031601\n",
            "[4, 300] loss: 0.5436227034032345\n",
            "[5, 100] loss: 0.4400852846354246\n",
            "[5, 200] loss: 0.46112958699464796\n",
            "[5, 300] loss: 0.4555511157214642\n",
            "Training time: 173.74052739143372\n",
            "Accuracy: 85.08235294117647%\n"
          ],
          "name": "stdout"
        }
      ]
    },
    {
      "cell_type": "code",
      "metadata": {
        "colab": {
          "background_save": true,
          "base_uri": "https://localhost:8080/",
          "height": 530
        },
        "id": "f2EkBD26bkHX",
        "outputId": "22359419-7e65-408c-bd45-d694b54b9aa5"
      },
      "source": [
        "# create the figure\r\n",
        "plt.figure(figsize=[12,8])\r\n",
        "plt.title(\"Accuracy  after JL dimensionality reduction\")\r\n",
        "plt.xticks(components)\r\n",
        "plt.xlabel(\"Number of dimensions\")\r\n",
        "plt.ylabel(\"Accuracy\")\r\n",
        "plt.ylim((79.5,85))\r\n",
        "\r\n",
        "# plot the baseline and random projection accuracies\r\n",
        "plt.plot(components, acc_jl_list)\r\n",
        "plt.hlines(93.47, 0.01, 0.5, linestyle='dashed', color='r')"
      ],
      "execution_count": null,
      "outputs": [
        {
          "output_type": "execute_result",
          "data": {
            "text/plain": [
              "<matplotlib.collections.LineCollection at 0x7fcdff0ed810>"
            ]
          },
          "metadata": {
            "tags": []
          },
          "execution_count": 0
        },
        {
          "output_type": "display_data",
          "data": {
            "image/png": "[encoded data removed]",
            "text/plain": [
              "<Figure size 864x576 with 1 Axes>"
            ]
          },
          "metadata": {
            "tags": []
          }
        }
      ]
    },
    {
      "cell_type": "code",
      "metadata": {
        "colab": {
          "background_save": true
        },
        "id": "gnf5jMK1TAjL"
      },
      "source": [
        "# dimensionality reduction with PCA\r\n",
        "\r\n",
        "df_train = pd.DataFrame(pcap_train.x_train.numpy())\r\n",
        "df_test = pd.DataFrame(pcap_test.x_train.numpy())"
      ],
      "execution_count": null,
      "outputs": []
    },
    {
      "cell_type": "code",
      "metadata": {
        "colab": {
          "background_save": true
        },
        "id": "pRaclMw0TH6p"
      },
      "source": [
        "from sklearn.decomposition import PCA"
      ],
      "execution_count": null,
      "outputs": []
    },
    {
      "cell_type": "code",
      "metadata": {
        "colab": {
          "base_uri": "https://localhost:8080/"
        },
        "id": "quk6dz0UTOop",
        "outputId": "8ed37d47-5035-4496-826e-5075b8b4f93d"
      },
      "source": [
        "acc_pca_list = []\r\n",
        "from sklearn.random_projection import SparseRandomProjection\r\n",
        "# train model and get predictions\r\n",
        "for dim in components:\r\n",
        "    # dimensionality reduction\r\n",
        "    # create the transformation\r\n",
        "    pca = PCA(n_components = dim)\r\n",
        "    x_train_np = pca.fit_transform(df_train)\r\n",
        "    x_train_pd = pd.DataFrame(x_train_np)\r\n",
        "\r\n",
        "    # evaluate the model and update the list of accuracies\r\n",
        "    x_test_np = pca.transform(df_test)\r\n",
        "    x_test_pd = pd.DataFrame(x_test_np)\r\n",
        "\r\n",
        "    print(\"{} dimensions after PCA dimensionality reduction\".format(dim))\r\n",
        "\r\n",
        "    # build model\r\n",
        "    model = CNN_JL(int(np.floor((np.floor((dim-4)/2)-4)/2)*100)).cuda()\r\n",
        "    criterion = nn.CrossEntropyLoss()\r\n",
        "    optimizer = torch.optim.Adam(model.parameters())\r\n",
        "\r\n",
        "    train_loss = []\r\n",
        "    interval_tuples = []\r\n",
        "    start = time.time()\r\n",
        "\r\n",
        "    pcap_train.x_train = torch.tensor(x_train_pd.values)\r\n",
        "    pcap_test.x_train = torch.tensor(x_test_pd.values)\r\n",
        "\r\n",
        "    train_loader = torch.utils.data.DataLoader(pcap_train, batch_size=25, shuffle=True, drop_last=True)\r\n",
        "    test_loader = torch.utils.data.DataLoader(pcap_test, batch_size=25, shuffle=False, drop_last=True)\r\n",
        "\r\n",
        "    for epoch in range(5):\r\n",
        "        running_train_loss = 0.0\r\n",
        "        for i, data in enumerate(train_loader, 0):\r\n",
        "            inputs, labels = data\r\n",
        "            labels = labels.long()\r\n",
        "            inputs = np.expand_dims(inputs, axis=1)\r\n",
        "            inputs = torch.Tensor(inputs)\r\n",
        "            inputs = inputs.cuda() # -- for GPU\r\n",
        "            labels = labels.cuda() # -- for GPU\r\n",
        "            \r\n",
        "            # zero the parameters gradients\r\n",
        "            optimizer.zero_grad()\r\n",
        "\r\n",
        "            # forward + backward + optimization\r\n",
        "            outputs = model(inputs)\r\n",
        "\r\n",
        "            loss = criterion(outputs, labels)\r\n",
        "            loss.backward()\r\n",
        "            optimizer.step()\r\n",
        "\r\n",
        "            # print statistics\r\n",
        "            running_train_loss += loss.item()\r\n",
        "            if (i+1) % 100 == 0:\r\n",
        "                interval_tuples.append(str((epoch + 1, i + 1)))\r\n",
        "                print(\"[{}, {}] loss: {}\".format(epoch + 1, i + 1, running_train_loss / 100))\r\n",
        "                train_loss.append(running_train_loss / 100)\r\n",
        "                running_train_loss = 0.0\r\n",
        "\r\n",
        "    stop = time.time()\r\n",
        "    print(\"Training time: {}\".format(stop-start))\r\n",
        "\r\n",
        "    # test accuracy\r\n",
        "    total = 0\r\n",
        "    correct = 0\r\n",
        "    with torch.no_grad(): \r\n",
        "        for data in test_loader:\r\n",
        "            inputs, labels = data\r\n",
        "            labels = labels.float()\r\n",
        "            inputs = np.expand_dims(inputs, axis=1)\r\n",
        "            inputs = torch.Tensor(inputs)\r\n",
        "            inputs = inputs.cuda() # -- for GPU\r\n",
        "            labels = labels.cuda() # -- for GPU\r\n",
        "\r\n",
        "            outputs = model(inputs)\r\n",
        "            _, predicted = torch.max(outputs.data, 1)\r\n",
        "            total += labels.size(0)\r\n",
        "            correct += (predicted == labels).sum().item()\r\n",
        "    accuracy = (100 * correct / total)\r\n",
        "    acc_pca_list.append(accuracy)\r\n",
        "    print('Accuracy: {}%'.format(accuracy))"
      ],
      "execution_count": null,
      "outputs": [
        {
          "output_type": "stream",
          "text": [
            "180 dimensions after PCA dimensionality reduction\n"
          ],
          "name": "stdout"
        }
      ]
    },
    {
      "cell_type": "code",
      "metadata": {
        "id": "9HSwPEzmXXRD"
      },
      "source": [
        "# create the figure\r\n",
        "plt.figure(figsize=[12,8])\r\n",
        "plt.title(\"Accuracy after PCA dimensionality reduction\")\r\n",
        "plt.xlabel(\"Number of dimensions\")\r\n",
        "plt.ylabel(\"Accuracy\")\r\n",
        "# plt.ylim((79.5,85))\r\n",
        "\r\n",
        "# plot the baseline and random projection accuracies\r\n",
        "plt.plot(components, acc_pca_list)\r\n",
        "plt.plot(components, acc_jl_list)\r\n",
        "plt.legend()\r\n",
        "plt.hlines(93.47, 0.01, 0.5, linestyle='dashed', color='r')"
      ],
      "execution_count": null,
      "outputs": []
    }
  ]
}